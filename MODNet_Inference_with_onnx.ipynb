{
  "nbformat": 4,
  "nbformat_minor": 0,
  "metadata": {
    "colab": {
      "provenance": [],
      "include_colab_link": true
    },
    "kernelspec": {
      "name": "python3",
      "display_name": "Python 3"
    }
  },
  "cells": [
    {
      "cell_type": "markdown",
      "metadata": {
        "id": "view-in-github",
        "colab_type": "text"
      },
      "source": [
        "<a href=\"https://colab.research.google.com/github/ZoliN/colab/blob/main/MODNet_Inference_with_onnx.ipynb\" target=\"_parent\"><img src=\"https://colab.research.google.com/assets/colab-badge.svg\" alt=\"Open In Colab\"/></a>"
      ]
    },
    {
      "cell_type": "markdown",
      "metadata": {
        "id": "jjCbspPLvjzh"
      },
      "source": [
        "# MODNet - Inference with onnx\n",
        "\n",
        "This notebook is the modified version of the main [colab demo](https://colab.research.google.com/drive/1GANpbKT06aEFiW-Ssx0DQnnEADcXwQG6?usp=sharing#scrollTo=JOmYOHKfgQ5Y). Refer it for more information. \n",
        "\n",
        "\n",
        "In this demo, we provide a very high performance **inference ready onnx model** for image matting. It also supports dynamic input and output shapes. <b><font color='#00FF0'>The inference time is also very less and you don't need **GPU** to run it. </font></b>"
      ]
    },
    {
      "cell_type": "markdown",
      "metadata": {
        "id": "zVadbSjb6QmV"
      },
      "source": [
        "## 1. Preparation\n",
        "\n",
        "Clone the repository and download the pretrained model."
      ]
    },
    {
      "cell_type": "code",
      "metadata": {
        "id": "EXypCYy0q6kG"
      },
      "source": [
        "!pip install onnx onnxruntime\n",
        "import os\n",
        "\n",
        "# clone the repository\n",
        "%cd /content\n",
        "if not os.path.exists('MODNet'):\n",
        "  !git clone https://github.com/manthan3C273/MODNet\n",
        "%cd MODNet/\n",
        "\n",
        "# dowload the onnx model for image matting\n",
        "model = 'modnet.onnx'\n",
        "if not os.path.exists(model):\n",
        "  !gdown --id 1cgycTQlYXpTh26gB9FTnthE7AvruV8hd \\\n",
        "          -O pretrained/modnet.onnx"
      ],
      "execution_count": null,
      "outputs": []
    },
    {
      "cell_type": "markdown",
      "metadata": {
        "id": "wrr0Jnqd6nyc"
      },
      "source": [
        "## 2. Upload image\n",
        "\n",
        "Upload portrait images to be processed (only PNG and JPG format are supported). \n",
        "\n",
        "Download demo image. Photo by Charlotte May from [Pexels](https://www.pexels.com/photo/unrecognizable-asian-woman-with-rucksack-in-town-5965592/)"
      ]
    },
    {
      "cell_type": "code",
      "metadata": {
        "id": "o5CK2gAVq6h_"
      },
      "source": [
        "# dowload image\n",
        "image = 'image.jpg'\n",
        "if not os.path.exists(image):\n",
        "  !gdown --id 1fkyh03NEuSwvjFttYVwV7TjnJML04Xn6 \\\n",
        "          -O image.jpg"
      ],
      "execution_count": null,
      "outputs": []
    },
    {
      "cell_type": "markdown",
      "metadata": {
        "id": "EUxy6CMD9xLZ"
      },
      "source": [
        "## 3. Inference\n",
        "\n",
        "Run the following command for alpha matte prediction."
      ]
    },
    {
      "cell_type": "code",
      "metadata": {
        "id": "R1lNsMeS7f5v",
        "colab": {
          "base_uri": "https://localhost:8080/"
        },
        "outputId": "0003b722-c9f7-4d88-cc81-88415344b857"
      },
      "source": [
        "%cd /content/MODNet\n",
        "!python demo/image_matting/Inference_with_ONNX/inference_onnx.py \\\n",
        "        --image-path=image2.jpg \\\n",
        "        --output-path=matte.png \\\n",
        "        --model-path=pretrained/modnet_16.onnx"
      ],
      "execution_count": 56,
      "outputs": [
        {
          "output_type": "stream",
          "name": "stdout",
          "text": [
            "/content/MODNet\n",
            "Elapsed time is 12.978839 seconds.\n"
          ]
        }
      ]
    },
    {
      "cell_type": "code",
      "source": [
        "#!pip install onnxsim onnxruntime\n",
        "!onnxsim /content/MODNet/pretrained/modnet16.onnx /content/MODNet/pretrained/modnet16_672.onnx --overwrite-input-shape 1,3,672,512\n"
      ],
      "metadata": {
        "id": "SYb7ZR5C1p-l"
      },
      "execution_count": null,
      "outputs": []
    },
    {
      "cell_type": "code",
      "source": [
        "#!pip install onnx-tf\n",
        "!python -m onnxruntime.tools.convert_onnx_models_to_ort --target_platform arm --save_optimized_onnx_model /content/MODNet/pretrained/modnet_16.onnx "
      ],
      "metadata": {
        "id": "Ugd83WNJH6Of"
      },
      "execution_count": null,
      "outputs": []
    },
    {
      "cell_type": "code",
      "source": [
        "#!pip install onnx onnxconverter-common\n",
        "import onnx\n",
        "from onnxconverter_common import float16\n",
        "\n",
        "model = onnx.load(\"/content/MODNet/pretrained/modnet.onnx\")\n",
        "model_fp16 = float16.convert_float_to_float16(model, keep_io_types=True)\n",
        "onnx.save(model_fp16, \"/content/MODNet/pretrained/modnet_16.onnx\")"
      ],
      "metadata": {
        "id": "8L5ZVxI7hVR1"
      },
      "execution_count": null,
      "outputs": []
    },
    {
      "cell_type": "code",
      "source": [
        "import onnx\n",
        "from onnxruntime.quantization import quantize_dynamic, QuantType\n",
        "\n",
        "model_fp32 = '/content/MODNet/pretrained/modnet.onnx'\n",
        "model_quant = '/content/MODNet/pretrained/modnetquant.onnx'\n",
        "quantized_model = quantize_dynamic(model_fp32, model_quant,weight_type=QuantType.QUInt8, optimize_model=False)\n",
        "#quantized_model = quantize_dynamic(model_fp32, model_quant)"
      ],
      "metadata": {
        "id": "KQs3qxDmD0qx"
      },
      "execution_count": 17,
      "outputs": []
    },
    {
      "cell_type": "markdown",
      "metadata": {
        "id": "BVhieG2X_lB4"
      },
      "source": [
        "## 4. Visualization\n",
        "\n",
        "Display the results (from left to right: image, foreground, and alpha matte)"
      ]
    },
    {
      "cell_type": "code",
      "metadata": {
        "id": "KDSVmgi67f4I"
      },
      "source": [
        "import numpy as np\n",
        "from PIL import Image\n",
        "\n",
        "def combined_display(image, matte):\n",
        "  # calculate display resolution\n",
        "  w, h = image.width, image.height\n",
        "  rw, rh = 800, int(h * 800 / (3 * w))\n",
        "  \n",
        "  # obtain predicted foreground\n",
        "  image = np.asarray(image)\n",
        "  if len(image.shape) == 2:\n",
        "    image = image[:, :, None]\n",
        "  if image.shape[2] == 1:\n",
        "    image = np.repeat(image, 3, axis=2)\n",
        "  elif image.shape[2] == 4:\n",
        "    image = image[:, :, 0:3]\n",
        "  matte = np.repeat(np.asarray(matte)[:, :, None], 3, axis=2) / 255\n",
        "  foreground = image * matte + np.full(image.shape, 255) * (1 - matte)\n",
        "  \n",
        "  # combine image, foreground, and alpha into one line\n",
        "  combined = np.concatenate((image, foreground, matte * 255), axis=1)\n",
        "  combined = Image.fromarray(np.uint8(combined)).resize((rw, rh))\n",
        "  return combined\n",
        "\n",
        "# visualize all images\n",
        "\n",
        "image = Image.open('image.jpg')\n",
        "matte = Image.open('matte.png')\n",
        "display(combined_display(image, matte))"
      ],
      "execution_count": null,
      "outputs": []
    },
    {
      "cell_type": "markdown",
      "metadata": {
        "id": "gTZfJsweBQ_6"
      },
      "source": [
        "## 5. Download image\n",
        "\n",
        "Image with transparent background will be saved and downloaded. "
      ]
    },
    {
      "cell_type": "code",
      "metadata": {
        "colab": {
          "base_uri": "https://localhost:8080/",
          "height": 17
        },
        "id": "ZbN8ZVMtBQeu",
        "outputId": "e236322d-221c-4188-99ac-cf0e2b0a51b9"
      },
      "source": [
        "image.putalpha(matte)\n",
        "image.save('transparent_img.png')\n",
        "\n",
        "from google.colab import files\n",
        "files.download('transparent_img.png')"
      ],
      "execution_count": 6,
      "outputs": [
        {
          "output_type": "display_data",
          "data": {
            "text/plain": [
              "<IPython.core.display.Javascript object>"
            ],
            "application/javascript": [
              "\n",
              "    async function download(id, filename, size) {\n",
              "      if (!google.colab.kernel.accessAllowed) {\n",
              "        return;\n",
              "      }\n",
              "      const div = document.createElement('div');\n",
              "      const label = document.createElement('label');\n",
              "      label.textContent = `Downloading \"${filename}\": `;\n",
              "      div.appendChild(label);\n",
              "      const progress = document.createElement('progress');\n",
              "      progress.max = size;\n",
              "      div.appendChild(progress);\n",
              "      document.body.appendChild(div);\n",
              "\n",
              "      const buffers = [];\n",
              "      let downloaded = 0;\n",
              "\n",
              "      const channel = await google.colab.kernel.comms.open(id);\n",
              "      // Send a message to notify the kernel that we're ready.\n",
              "      channel.send({})\n",
              "\n",
              "      for await (const message of channel.messages) {\n",
              "        // Send a message to notify the kernel that we're ready.\n",
              "        channel.send({})\n",
              "        if (message.buffers) {\n",
              "          for (const buffer of message.buffers) {\n",
              "            buffers.push(buffer);\n",
              "            downloaded += buffer.byteLength;\n",
              "            progress.value = downloaded;\n",
              "          }\n",
              "        }\n",
              "      }\n",
              "      const blob = new Blob(buffers, {type: 'application/binary'});\n",
              "      const a = document.createElement('a');\n",
              "      a.href = window.URL.createObjectURL(blob);\n",
              "      a.download = filename;\n",
              "      div.appendChild(a);\n",
              "      a.click();\n",
              "      div.remove();\n",
              "    }\n",
              "  "
            ]
          },
          "metadata": {}
        },
        {
          "output_type": "display_data",
          "data": {
            "text/plain": [
              "<IPython.core.display.Javascript object>"
            ],
            "application/javascript": [
              "download(\"download_b8ac7926-867e-451f-b1d8-eff334fc76fd\", \"transparent_img.png\", 16323450)"
            ]
          },
          "metadata": {}
        }
      ]
    },
    {
      "cell_type": "code",
      "source": [
        "import cv2\n",
        "import numpy as np\n",
        "import urllib.request\n",
        "import matplotlib.pyplot as plt\n",
        "\n",
        "import tensorflow as tf\n",
        "import tensorflow_hub as hub\n",
        "\n",
        "#url, filename = (\"https://github.com/intel-isl/MiDaS/releases/download/v2/dog.jpg\", \"dog.jpg\")\n",
        "#urllib.request.urlretrieve(url, filename)\n",
        "\n",
        "# the runtime initialization will not allocate all memory on the device to avoid out of GPU memory\n",
        "gpus = tf.config.experimental.list_physical_devices('GPU')\n",
        "for gpu in gpus:\n",
        "  tf.config.experimental.set_virtual_device_configuration(gpu, [tf.config.experimental.VirtualDeviceConfiguration(memory_limit=4000)])\n",
        "\n",
        "# input\n",
        "img = cv2.imread('/content/MODNet/image2.jpg')\n",
        "img = cv2.cvtColor(img, cv2.COLOR_BGR2RGB) / 255.0\n",
        "#img = img[837:2700, 600:2000,:]\n",
        "#img = img[1237:2700, 600:2000,:]\n",
        "\n",
        "img_resized = tf.image.resize(img, [256,256], method='bicubic', preserve_aspect_ratio=False)\n",
        "img_resized = tf.transpose(img_resized, [2, 0, 1])\n",
        "img_input = img_resized.numpy()\n",
        "reshape_img = img_input.reshape(1,3,256,256)\n",
        "tensor = tf.convert_to_tensor(reshape_img, dtype=tf.float32)\n",
        "\n",
        "# load model\n",
        "#module = hub.load(\"https://tfhub.dev/intel/midas/v2_1_small/1\", tags=['serve'])\n",
        "output = module.signatures['serving_default'](tensor)\n",
        "prediction = output['default'].numpy()\n",
        "prediction = prediction.reshape(256, 256)\n",
        "\n",
        "# output file\n",
        "#prediction = cv2.resize(prediction, (img.shape[1], img.shape[0]), interpolation=cv2.INTER_CUBIC)\n",
        "print(\" Write image to: output.png\")\n",
        "depth_min = prediction.min()\n",
        "depth_max = prediction.max()\n",
        "img_out = (255 * (prediction - depth_min) / (depth_max - depth_min)).astype(\"uint8\")\n",
        "\n",
        "cv2.imwrite(\"output.png\", img_out)\n",
        "plt.imshow(img_out)"
      ],
      "metadata": {
        "id": "IP8EAmIi8hdV"
      },
      "execution_count": null,
      "outputs": []
    },
    {
      "cell_type": "code",
      "source": [
        "%cd /content\n",
        "import tensorflow as tf\n",
        "import numpy as np\n",
        "import matplotlib.pyplot as plt\n",
        "import cv2\n",
        "from time import time\n",
        "\n",
        "#new_model = tf.keras.models.load_model('out3')\n",
        "model = tf.saved_model.load('outselfie').signatures[\"serving_default\"] \n",
        "\n",
        "\n",
        "inpath = '/content/MODNet/image.jpg'\n",
        "image = tf.io.read_file(inpath)\n",
        "image = tf.image.decode_png(image, dtype=tf.uint8, channels=3)\n",
        "image = image[0000:2000, 500:2000,:]\n",
        "#image = image[1600:2700, 800:1900,:]\n",
        "print(np.max(image))\n",
        "\n",
        "\n",
        "image = (tf.image.resize(images=image, size=[256, 256]))\n",
        "image = tf.cast(image, tf.float32) / 255.0\n",
        "image = tf.expand_dims(image, 0)\n",
        "\n",
        "t1 = time()\n",
        "prediction = model(image)['Identity']\n",
        "t2 = time()\n",
        "elapsed = t2 - t1\n",
        "print('Elapsed time is %f seconds.' % elapsed)\n",
        "\n",
        "bg, prediction = tf.split(prediction, 2, 3)\n",
        "#print(outp)\n",
        "#prediction = tf.where(prediction > bg, 1.0, 0.0)\n",
        "segres = prediction\n",
        "prediction = prediction.numpy()\n",
        "prediction = np.squeeze(prediction)\n",
        "\n",
        "print(\" Write image to: output.png\")\n",
        "depth_min = prediction.min()\n",
        "depth_max = prediction.max()\n",
        "img_out = (255 * (prediction - depth_min) / (depth_max - depth_min)).astype(\"uint8\")\n",
        "\n",
        "cv2.imwrite(\"depth.png\", cv2.cvtColor(prediction*255.0, cv2.COLOR_BGR2RGB) )\n",
        "plt.imshow(img_out)"
      ],
      "metadata": {
        "id": "vUS_j6bM4Dmf",
        "outputId": "61dc1c37-dd38-49c6-83d0-d0316f2c1ff2",
        "colab": {
          "base_uri": "https://localhost:8080/",
          "height": 522
        }
      },
      "execution_count": 54,
      "outputs": [
        {
          "output_type": "stream",
          "name": "stdout",
          "text": [
            "/content\n",
            "255\n",
            "Elapsed time is 0.182932 seconds.\n",
            " Write image to: output.png\n"
          ]
        },
        {
          "output_type": "execute_result",
          "data": {
            "text/plain": [
              "<matplotlib.image.AxesImage at 0x7fd54fabd7b0>"
            ]
          },
          "metadata": {},
          "execution_count": 54
        },
        {
          "output_type": "display_data",
          "data": {
            "text/plain": [
              "<Figure size 640x480 with 1 Axes>"
            ],
            "image/png": "[encoded data removed]"
          },
          "metadata": {}
        }
      ]
    },
    {
      "cell_type": "code",
      "source": [
        "from google.colab import drive\n",
        "\n",
        "drive.mount('/content/gdrive/', force_remount=True)"
      ],
      "metadata": {
        "id": "nUQhdpy36ABZ",
        "outputId": "a3289514-ba78-4810-a279-e3ae62342de9",
        "colab": {
          "base_uri": "https://localhost:8080/"
        }
      },
      "execution_count": 31,
      "outputs": [
        {
          "output_type": "stream",
          "name": "stdout",
          "text": [
            "Mounted at /content/gdrive/\n"
          ]
        }
      ]
    }
  ]
}