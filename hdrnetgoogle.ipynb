{
  "nbformat": 4,
  "nbformat_minor": 0,
  "metadata": {
    "colab": {
      "name": "Untitled3.ipynb",
      "provenance": [],
      "collapsed_sections": [],
      "authorship_tag": "ABX9TyNmijr7RCb1sZc3Up91YZkA",
      "include_colab_link": true
    },
    "kernelspec": {
      "name": "python3",
      "display_name": "Python 3"
    },
    "language_info": {
      "name": "python"
    }
  },
  "cells": [
    {
      "cell_type": "markdown",
      "metadata": {
        "id": "view-in-github",
        "colab_type": "text"
      },
      "source": [
        "<a href=\"https://colab.research.google.com/github/ZoliN/colab/blob/main/hdrnetgoogle.ipynb\" target=\"_parent\"><img src=\"https://colab.research.google.com/assets/colab-badge.svg\" alt=\"Open In Colab\"/></a>"
      ]
    },
    {
      "cell_type": "code",
      "execution_count": null,
      "metadata": {
        "id": "PEST8rWJRUo0"
      },
      "outputs": [],
      "source": [
        "!pip3 install virtualenv\n",
        "!virtualenv env\n",
        "!git clone https://github.com/google/hdrnet.git\n",
        "%cd /content/hdrnet/hdrnet\n",
        "#!source /content/env/bin/activate;pip install -r requirements.txt\n",
        "#!source /content/env/bin/activate;pip install opencv-python\n",
        "#!source /content/env/bin/activate;pip install pytest\n",
        "#!wget https://developer.nvidia.com/compute/cuda/10.0/Prod/local_installers/cuda-repo-ubuntu1804-10-0-local-10.0.130-410.48_1.0-1_amd64\n",
        "#!dpkg -i cuda-repo-ubuntu1804-10-0-local-10.0.130-410.48_1.0-1_amd64\n",
        "#!apt-key add /var/cuda-repo-10-0-local-10.0.130-410.48/7fa2af80.pub\n",
        "#!apt-get update -qq\n",
        "#!apt-cache policy cuda\n",
        "#!apt-get install cuda=10.0.130-1\n",
        "#!apt-get install gcc-5 g++-5 -y -qq;\n",
        "#!ln -s /usr/bin/gcc-5 /usr/local/cuda/bin/gcc;\n",
        "#!ln -s /usr/bin/g++-5 /usr/local/cuda/bin/g++;\n",
        "!apt-get install libmagic1\n",
        "import os\n",
        "import sys\n",
        "os.environ['CUDA_HOME'] = '/usr/local/cuda'\n",
        "os.environ['PATH'] += ':/content/hdrnet'\n",
        "os.environ['LD_LIBRARY_PATH'] += ':/content/env/lib/python3.7/site-packages/tensorflow'\n",
        "!echo $CUDA_HOME\n",
        "!echo $PATH"
      ]
    },
    {
      "cell_type": "code",
      "source": [
        "!nvcc --version"
      ],
      "metadata": {
        "colab": {
          "base_uri": "https://localhost:8080/"
        },
        "id": "43fG3jsGP6tV",
        "outputId": "88339852-a1e6-4314-9a43-25bc6e7be01d"
      },
      "execution_count": 2,
      "outputs": [
        {
          "output_type": "stream",
          "name": "stdout",
          "text": [
            "nvcc: NVIDIA (R) Cuda compiler driver\n",
            "Copyright (c) 2005-2020 NVIDIA Corporation\n",
            "Built on Mon_Oct_12_20:09:46_PDT_2020\n",
            "Cuda compilation tools, release 11.1, V11.1.105\n",
            "Build cuda_11.1.TC455_06.29190527_0\n"
          ]
        }
      ]
    },
    {
      "cell_type": "code",
      "source": [
        "%cd /content/\n",
        "!rm -rf hdrnet\n",
        "!git clone https://github.com/google/hdrnet.git"
      ],
      "metadata": {
        "id": "rDaTfzIPU61I"
      },
      "execution_count": null,
      "outputs": []
    },
    {
      "cell_type": "code",
      "source": [
        "!apt-get install clang-10 -y -qq;\n",
        "!ln -sf /usr/bin/clang-10 /usr/local/cuda/bin/gcc;\n",
        "!ln -sf /usr/bin/clang-10 /usr/local/cuda/bin/g++;"
      ],
      "metadata": {
        "id": "_cdYGjSqa2-Q"
      },
      "execution_count": null,
      "outputs": []
    },
    {
      "cell_type": "code",
      "source": [
        "!mkdir -p /content/hdrnet/hdrnet/ops/third_party/\n",
        "!ln -sf /usr/local/lib/python3.7/dist-packages/tensorflow/include/tensorflow/ /content/hdrnet/hdrnet/ops/third_party/\n",
        "!mkdir -p /usr/local/lib/python3.7/dist-packages/tensorflow/include/third_party/gpus/cuda\n",
        "!ln -s /usr/local/cuda/include /usr/local/lib/python3.7/dist-packages/tensorflow/include/third_party/gpus/cuda"
      ],
      "metadata": {
        "id": "p_y1ZQbSRJuQ"
      },
      "execution_count": 31,
      "outputs": []
    },
    {
      "cell_type": "code",
      "source": [
        "%cd /content/hdrnet/hdrnet\n",
        "%env PROTOCOL_BUFFERS_PYTHON_IMPLEMENTATION=python\n",
        "!make clean\n",
        "!make"
      ],
      "metadata": {
        "id": "-KIM2ikGXeT-"
      },
      "execution_count": null,
      "outputs": []
    },
    {
      "cell_type": "code",
      "source": [
        "!ls /usr/local/lib/python3.7/dist-packages/tensorflow/include/third_party/gpus/cuda/include"
      ],
      "metadata": {
        "id": "7KayWarXZyjp"
      },
      "execution_count": null,
      "outputs": []
    },
    {
      "cell_type": "code",
      "source": [
        "!mkdir -p /usr/local/lib/python3.7/dist-packages/tensorflow/include/third_party/gpus/cuda\n",
        "!ln -s /usr/local/cuda/include /usr/local/lib/python3.7/dist-packages/tensorflow/include/third_party/gpus/cuda\n",
        "\n",
        "!mkdir -p /content/env2/lib/python3.7/dist-packages/tensorflow/include/third_party/gpus/cuda\n",
        "!ln -s /usr/local/cuda/include /content/env2/lib/python3.7/dist-packages/tensorflow/include/third_party/gpus/cuda"
      ],
      "metadata": {
        "id": "Am1jn8irZfGb"
      },
      "execution_count": null,
      "outputs": []
    },
    {
      "cell_type": "code",
      "source": [
        "!ls -l /usr/local/cuda/bin/gcc\n"
      ],
      "metadata": {
        "colab": {
          "base_uri": "https://localhost:8080/"
        },
        "id": "lF31LQauR0pX",
        "outputId": "d5edef8d-1ea8-419f-efc4-d5db2e9575b4"
      },
      "execution_count": 34,
      "outputs": [
        {
          "output_type": "stream",
          "name": "stdout",
          "text": [
            "ls: cannot access '/usr/local/cuda/bin/gcc': No such file or directory\n"
          ]
        }
      ]
    },
    {
      "cell_type": "code",
      "source": [
        "#!virtualenv env2\n",
        "#%cd /content/hdrnet/hdrnet\n",
        "#!source /content/env2/bin/activate;pip install -r requirements.txt\n",
        "!pip install tensorflow-gpu\n"
      ],
      "metadata": {
        "id": "U1X8EwFAbPqJ",
        "colab": {
          "base_uri": "https://localhost:8080/"
        },
        "outputId": "0b5dacc3-5eff-448b-a142-de3ef2e518b2"
      },
      "execution_count": 51,
      "outputs": [
        {
          "output_type": "stream",
          "name": "stdout",
          "text": [
            "Looking in indexes: https://pypi.org/simple, https://us-python.pkg.dev/colab-wheels/public/simple/\n",
            "Requirement already satisfied: tensorflow-gpu in /usr/local/lib/python3.7/dist-packages (2.9.1)\n",
            "Requirement already satisfied: tensorboard<2.10,>=2.9 in /usr/local/lib/python3.7/dist-packages (from tensorflow-gpu) (2.9.1)\n",
            "Requirement already satisfied: gast<=0.4.0,>=0.2.1 in /usr/local/lib/python3.7/dist-packages (from tensorflow-gpu) (0.4.0)\n",
            "Requirement already satisfied: packaging in /usr/local/lib/python3.7/dist-packages (from tensorflow-gpu) (21.3)\n",
            "Requirement already satisfied: typing-extensions>=3.6.6 in /usr/local/lib/python3.7/dist-packages (from tensorflow-gpu) (4.1.1)\n",
            "Requirement already satisfied: google-pasta>=0.1.1 in /usr/local/lib/python3.7/dist-packages (from tensorflow-gpu) (0.2.0)\n",
            "Requirement already satisfied: tensorflow-estimator<2.10.0,>=2.9.0rc0 in /usr/local/lib/python3.7/dist-packages (from tensorflow-gpu) (2.9.0)\n",
            "Requirement already satisfied: setuptools in /usr/local/lib/python3.7/dist-packages (from tensorflow-gpu) (57.4.0)\n",
            "Requirement already satisfied: absl-py>=1.0.0 in /usr/local/lib/python3.7/dist-packages (from tensorflow-gpu) (1.1.0)\n",
            "Requirement already satisfied: h5py>=2.9.0 in /usr/local/lib/python3.7/dist-packages (from tensorflow-gpu) (3.1.0)\n",
            "Requirement already satisfied: wrapt>=1.11.0 in /usr/local/lib/python3.7/dist-packages (from tensorflow-gpu) (1.14.1)\n",
            "Requirement already satisfied: keras<2.10.0,>=2.9.0rc0 in /usr/local/lib/python3.7/dist-packages (from tensorflow-gpu) (2.9.0)\n",
            "Requirement already satisfied: grpcio<2.0,>=1.24.3 in /usr/local/lib/python3.7/dist-packages (from tensorflow-gpu) (1.46.3)\n",
            "Requirement already satisfied: opt-einsum>=2.3.2 in /usr/local/lib/python3.7/dist-packages (from tensorflow-gpu) (3.3.0)\n",
            "Requirement already satisfied: tensorflow-io-gcs-filesystem>=0.23.1 in /usr/local/lib/python3.7/dist-packages (from tensorflow-gpu) (0.26.0)\n",
            "Requirement already satisfied: libclang>=13.0.0 in /usr/local/lib/python3.7/dist-packages (from tensorflow-gpu) (14.0.1)\n",
            "Requirement already satisfied: astunparse>=1.6.0 in /usr/local/lib/python3.7/dist-packages (from tensorflow-gpu) (1.6.3)\n",
            "Requirement already satisfied: protobuf<3.20,>=3.9.2 in /usr/local/lib/python3.7/dist-packages (from tensorflow-gpu) (3.17.3)\n",
            "Requirement already satisfied: termcolor>=1.1.0 in /usr/local/lib/python3.7/dist-packages (from tensorflow-gpu) (1.1.0)\n",
            "Requirement already satisfied: flatbuffers<2,>=1.12 in /usr/local/lib/python3.7/dist-packages (from tensorflow-gpu) (1.12)\n",
            "Requirement already satisfied: numpy>=1.20 in /usr/local/lib/python3.7/dist-packages (from tensorflow-gpu) (1.21.6)\n",
            "Requirement already satisfied: keras-preprocessing>=1.1.1 in /usr/local/lib/python3.7/dist-packages (from tensorflow-gpu) (1.1.2)\n",
            "Requirement already satisfied: six>=1.12.0 in /usr/local/lib/python3.7/dist-packages (from tensorflow-gpu) (1.15.0)\n",
            "Requirement already satisfied: wheel<1.0,>=0.23.0 in /usr/local/lib/python3.7/dist-packages (from astunparse>=1.6.0->tensorflow-gpu) (0.37.1)\n",
            "Requirement already satisfied: cached-property in /usr/local/lib/python3.7/dist-packages (from h5py>=2.9.0->tensorflow-gpu) (1.5.2)\n",
            "Requirement already satisfied: werkzeug>=1.0.1 in /usr/local/lib/python3.7/dist-packages (from tensorboard<2.10,>=2.9->tensorflow-gpu) (1.0.1)\n",
            "Requirement already satisfied: google-auth<3,>=1.6.3 in /usr/local/lib/python3.7/dist-packages (from tensorboard<2.10,>=2.9->tensorflow-gpu) (1.35.0)\n",
            "Requirement already satisfied: google-auth-oauthlib<0.5,>=0.4.1 in /usr/local/lib/python3.7/dist-packages (from tensorboard<2.10,>=2.9->tensorflow-gpu) (0.4.6)\n",
            "Requirement already satisfied: requests<3,>=2.21.0 in /usr/local/lib/python3.7/dist-packages (from tensorboard<2.10,>=2.9->tensorflow-gpu) (2.23.0)\n",
            "Requirement already satisfied: tensorboard-plugin-wit>=1.6.0 in /usr/local/lib/python3.7/dist-packages (from tensorboard<2.10,>=2.9->tensorflow-gpu) (1.8.1)\n",
            "Requirement already satisfied: tensorboard-data-server<0.7.0,>=0.6.0 in /usr/local/lib/python3.7/dist-packages (from tensorboard<2.10,>=2.9->tensorflow-gpu) (0.6.1)\n",
            "Requirement already satisfied: markdown>=2.6.8 in /usr/local/lib/python3.7/dist-packages (from tensorboard<2.10,>=2.9->tensorflow-gpu) (3.3.7)\n",
            "Requirement already satisfied: rsa<5,>=3.1.4 in /usr/local/lib/python3.7/dist-packages (from google-auth<3,>=1.6.3->tensorboard<2.10,>=2.9->tensorflow-gpu) (4.8)\n",
            "Requirement already satisfied: cachetools<5.0,>=2.0.0 in /usr/local/lib/python3.7/dist-packages (from google-auth<3,>=1.6.3->tensorboard<2.10,>=2.9->tensorflow-gpu) (4.2.4)\n",
            "Requirement already satisfied: pyasn1-modules>=0.2.1 in /usr/local/lib/python3.7/dist-packages (from google-auth<3,>=1.6.3->tensorboard<2.10,>=2.9->tensorflow-gpu) (0.2.8)\n",
            "Requirement already satisfied: requests-oauthlib>=0.7.0 in /usr/local/lib/python3.7/dist-packages (from google-auth-oauthlib<0.5,>=0.4.1->tensorboard<2.10,>=2.9->tensorflow-gpu) (1.3.1)\n",
            "Requirement already satisfied: importlib-metadata>=4.4 in /usr/local/lib/python3.7/dist-packages (from markdown>=2.6.8->tensorboard<2.10,>=2.9->tensorflow-gpu) (4.11.4)\n",
            "Requirement already satisfied: zipp>=0.5 in /usr/local/lib/python3.7/dist-packages (from importlib-metadata>=4.4->markdown>=2.6.8->tensorboard<2.10,>=2.9->tensorflow-gpu) (3.8.0)\n",
            "Requirement already satisfied: pyasn1<0.5.0,>=0.4.6 in /usr/local/lib/python3.7/dist-packages (from pyasn1-modules>=0.2.1->google-auth<3,>=1.6.3->tensorboard<2.10,>=2.9->tensorflow-gpu) (0.4.8)\n",
            "Requirement already satisfied: chardet<4,>=3.0.2 in /usr/local/lib/python3.7/dist-packages (from requests<3,>=2.21.0->tensorboard<2.10,>=2.9->tensorflow-gpu) (3.0.4)\n",
            "Requirement already satisfied: idna<3,>=2.5 in /usr/local/lib/python3.7/dist-packages (from requests<3,>=2.21.0->tensorboard<2.10,>=2.9->tensorflow-gpu) (2.10)\n",
            "Requirement already satisfied: urllib3!=1.25.0,!=1.25.1,<1.26,>=1.21.1 in /usr/local/lib/python3.7/dist-packages (from requests<3,>=2.21.0->tensorboard<2.10,>=2.9->tensorflow-gpu) (1.24.3)\n",
            "Requirement already satisfied: certifi>=2017.4.17 in /usr/local/lib/python3.7/dist-packages (from requests<3,>=2.21.0->tensorboard<2.10,>=2.9->tensorflow-gpu) (2022.6.15)\n",
            "Requirement already satisfied: oauthlib>=3.0.0 in /usr/local/lib/python3.7/dist-packages (from requests-oauthlib>=0.7.0->google-auth-oauthlib<0.5,>=0.4.1->tensorboard<2.10,>=2.9->tensorflow-gpu) (3.2.0)\n",
            "Requirement already satisfied: pyparsing!=3.0.5,>=2.0.2 in /usr/local/lib/python3.7/dist-packages (from packaging->tensorflow-gpu) (3.0.9)\n"
          ]
        }
      ]
    },
    {
      "cell_type": "code",
      "source": [
        "TF_INC ?= `python -c 'import tensorflow as tf; print(tf.sysconfig.get_include())'`\n",
        "# TF_INC ?= /usr/local/lib/python2.7/dist-packages/tensorflow/include\n",
        "CUDA_HOME ?= /usr/local/cuda\n",
        "\n",
        "SRC_DIR = ops\n",
        "\n",
        "BUILD_DIR = build\n",
        "LIB_DIR = lib\n",
        "\n",
        "CC = c++ -std=c++17\n",
        "NVCC = nvcc -std c++17\n",
        "CFLAGS = -fPIC -I$(TF_INC) -O2 -D_GLIBCXX_USE_CXX11_ABI=0\n",
        "LDFLAGS = -L$(CUDA_HOME)/lib64 -lcudart\n",
        "NVFLAGS = -DGOOGLE_CUDA=1 -D__CUDA__ -x cu -Xcompiler -fPIC -I$(TF_INC) \\\n",
        "\t\t\t\t\t-expt-relaxed-constexpr -Wno-deprecated-gpu-targets -ftz=true\n",
        "\n",
        "\n",
        "SRC = bilateral_slice.cc bilateral_slice_apply.cc bilateral_slice_op.cc bilateral_slice_apply_op.cc\n",
        "CUDA_SRC = bilateral_slice.cu.cc bilateral_slice_apply.cu.cc\n",
        "CUDA_OBJ = $(addprefix $(BUILD_DIR)/,$(CUDA_SRC:.cc=.o))\n",
        "SRCS = $(addprefix $(SRC_DIR)/, $(SRC))\n",
        "\n",
        "all: $(LIB_DIR)/hdrnet_ops.so\n",
        "\n",
        "# Main library\n",
        "$(LIB_DIR)/hdrnet_ops.so: $(CUDA_OBJ) $(LIB_DIR) $(SRCS)\n",
        "\t$(CC) -shared -o $@ $(SRCS) $(CUDA_OBJ) $(CFLAGS) $(LDFLAGS) \n",
        "\n",
        "# Cuda kernels\n",
        "$(BUILD_DIR)/%.o: $(SRC_DIR)/%.cc $(BUILD_DIR)\n",
        "\t$(NVCC) -c  $< -o $@ $(NVFLAGS)\n",
        "\n",
        "$(BUILD_DIR):\n",
        "\tmkdir -p $@\n",
        "\n",
        "\n",
        "$(LIB_DIR):\n",
        "\tmkdir -p $@\n",
        "\n",
        "clean:\n",
        "\trm -rf $(BUILD_DIR) $(LIB_DIR)\n"
      ],
      "metadata": {
        "id": "pYvJc0Y-aUpd"
      },
      "execution_count": null,
      "outputs": []
    },
    {
      "cell_type": "code",
      "source": [
        "  template <int I>\n",
        "  using StorageT = internal_compressed_tuple::Storage<ElemT<I>, I>;\n",
        "\n",
        "  template <int I>\n",
        "  ElemT<I>&& get() && {\n",
        "    return std::move(*this).StorageT<I>::get();\n",
        "  }\n",
        "\n",
        "  template <int I>\n",
        "  constexpr const ElemT<I>&& get() const&& {\n",
        "    return absl::move(*this).StorageT<I>::get();\n",
        "  }"
      ],
      "metadata": {
        "id": "DEjcLzx3bY38"
      },
      "execution_count": null,
      "outputs": []
    }
  ]
}