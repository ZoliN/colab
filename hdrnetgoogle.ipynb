{
  "nbformat": 4,
  "nbformat_minor": 0,
  "metadata": {
    "colab": {
      "name": "Untitled3.ipynb",
      "provenance": [],
      "collapsed_sections": [],
      "authorship_tag": "ABX9TyNVcU87WpILA7ZU/plMpnMZ",
      "include_colab_link": true
    },
    "kernelspec": {
      "name": "python3",
      "display_name": "Python 3"
    },
    "language_info": {
      "name": "python"
    }
  },
  "cells": [
    {
      "cell_type": "markdown",
      "metadata": {
        "id": "view-in-github",
        "colab_type": "text"
      },
      "source": [
        "<a href=\"https://colab.research.google.com/github/ZoliN/colab/blob/main/hdrnetgoogle.ipynb\" target=\"_parent\"><img src=\"https://colab.research.google.com/assets/colab-badge.svg\" alt=\"Open In Colab\"/></a>"
      ]
    },
    {
      "cell_type": "code",
      "execution_count": null,
      "metadata": {
        "id": "PEST8rWJRUo0"
      },
      "outputs": [],
      "source": [
        "#!pip3 install virtualenv\n",
        "#!virtualenv env\n",
        "!git clone https://github.com/google/hdrnet.git\n",
        "%cd /content/hdrnet/hdrnet\n",
        "#!source /content/env/bin/activate;pip install -r requirements.txt\n",
        "!pip install opencv-python\n",
        "!pip install pytest\n",
        "!pip install tensorflow-gpu==2.9.1\n",
        "!apt-get install libmagic1\n",
        "!apt-get install clang-10 -y -qq;\n",
        "!ln -sf /usr/bin/clang-10 /usr/local/cuda/bin/gcc;\n",
        "!ln -sf /usr/bin/clang-10 /usr/local/cuda/bin/g++;\n",
        "import os\n",
        "import sys\n",
        "os.environ['CUDA_HOME'] = '/usr/local/cuda'\n",
        "os.environ['PATH'] += ':/content/hdrnet'\n",
        "os.environ['LD_LIBRARY_PATH'] += ':/content/env/lib/python3.7/site-packages/tensorflow'\n",
        "!echo $CUDA_HOME\n",
        "!echo $PATH"
      ]
    },
    {
      "cell_type": "code",
      "source": [
        "!nvcc --version"
      ],
      "metadata": {
        "colab": {
          "base_uri": "https://localhost:8080/"
        },
        "id": "43fG3jsGP6tV",
        "outputId": "cb8bbcfd-3138-4712-dfce-b9aa7d8f29ea"
      },
      "execution_count": 6,
      "outputs": [
        {
          "output_type": "stream",
          "name": "stdout",
          "text": [
            "nvcc: NVIDIA (R) Cuda compiler driver\n",
            "Copyright (c) 2005-2020 NVIDIA Corporation\n",
            "Built on Mon_Oct_12_20:09:46_PDT_2020\n",
            "Cuda compilation tools, release 11.1, V11.1.105\n",
            "Build cuda_11.1.TC455_06.29190527_0\n"
          ]
        }
      ]
    },
    {
      "cell_type": "code",
      "source": [
        "!ln -sf /usr/bin/clang-10 /usr/local/cuda/bin/gcc;\n",
        "!ln -sf /usr/bin/clang-10 /usr/local/cuda/bin/g++;"
      ],
      "metadata": {
        "id": "rDaTfzIPU61I"
      },
      "execution_count": 14,
      "outputs": []
    },
    {
      "cell_type": "code",
      "source": [
        ""
      ],
      "metadata": {
        "id": "_cdYGjSqa2-Q"
      },
      "execution_count": null,
      "outputs": []
    },
    {
      "cell_type": "code",
      "source": [
        "!mkdir -p /content/hdrnet/hdrnet/ops/third_party/\n",
        "!mkdir -p /content/hdrnet/hdrnet/ops/third_party/array\n",
        "!wget https://raw.githubusercontent.com/dsharlet/array/master/array.h -P /content/hdrnet/hdrnet/ops/third_party/array/\n",
        "!ln -sf /usr/local/lib/python3.7/dist-packages/tensorflow/include/tensorflow/ /content/hdrnet/hdrnet/ops/third_party/\n",
        "!mkdir -p /usr/local/lib/python3.7/dist-packages/tensorflow/include/third_party/gpus/cuda\n",
        "!ln -sf /usr/local/cuda/include /usr/local/lib/python3.7/dist-packages/tensorflow/include/third_party/gpus/cuda"
      ],
      "metadata": {
        "id": "p_y1ZQbSRJuQ",
        "colab": {
          "base_uri": "https://localhost:8080/"
        },
        "outputId": "cdaa5518-7243-4c0f-96eb-8616c0b9cf70"
      },
      "execution_count": 15,
      "outputs": [
        {
          "output_type": "stream",
          "name": "stdout",
          "text": [
            "--2022-07-12 08:37:45--  https://raw.githubusercontent.com/dsharlet/array/master/array.h\n",
            "Resolving raw.githubusercontent.com (raw.githubusercontent.com)... 185.199.111.133, 185.199.108.133, 185.199.109.133, ...\n",
            "Connecting to raw.githubusercontent.com (raw.githubusercontent.com)|185.199.111.133|:443... connected.\n",
            "HTTP request sent, awaiting response... 200 OK\n",
            "Length: 126753 (124K) [text/plain]\n",
            "Saving to: ‘/content/hdrnet/hdrnet/ops/third_party/array/array.h.1’\n",
            "\n",
            "array.h.1           100%[===================>] 123.78K  --.-KB/s    in 0.02s   \n",
            "\n",
            "2022-07-12 08:37:45 (5.58 MB/s) - ‘/content/hdrnet/hdrnet/ops/third_party/array/array.h.1’ saved [126753/126753]\n",
            "\n"
          ]
        }
      ]
    },
    {
      "cell_type": "code",
      "source": [
        "%cd /content/hdrnet/hdrnet\n",
        "%env PROTOCOL_BUFFERS_PYTHON_IMPLEMENTATION=python\n",
        "!make clean\n",
        "!make"
      ],
      "metadata": {
        "id": "-KIM2ikGXeT-"
      },
      "execution_count": null,
      "outputs": []
    },
    {
      "cell_type": "code",
      "source": [
        "!ls /usr/local/lib/python3.7/dist-packages/tensorflow/include/third_party/gpus/cuda/include"
      ],
      "metadata": {
        "id": "7KayWarXZyjp"
      },
      "execution_count": null,
      "outputs": []
    },
    {
      "cell_type": "code",
      "source": [
        "!mkdir -p /usr/local/lib/python3.7/dist-packages/tensorflow/include/third_party/gpus/cuda\n",
        "!ln -s /usr/local/cuda/include /usr/local/lib/python3.7/dist-packages/tensorflow/include/third_party/gpus/cuda\n",
        "\n",
        "!mkdir -p /content/env2/lib/python3.7/dist-packages/tensorflow/include/third_party/gpus/cuda\n",
        "!ln -s /usr/local/cuda/include /content/env2/lib/python3.7/dist-packages/tensorflow/include/third_party/gpus/cuda"
      ],
      "metadata": {
        "id": "Am1jn8irZfGb"
      },
      "execution_count": null,
      "outputs": []
    },
    {
      "cell_type": "code",
      "source": [
        "!ls -l /usr/local/cuda/bin/gcc\n"
      ],
      "metadata": {
        "colab": {
          "base_uri": "https://localhost:8080/"
        },
        "id": "lF31LQauR0pX",
        "outputId": "d5edef8d-1ea8-419f-efc4-d5db2e9575b4"
      },
      "execution_count": null,
      "outputs": [
        {
          "output_type": "stream",
          "name": "stdout",
          "text": [
            "ls: cannot access '/usr/local/cuda/bin/gcc': No such file or directory\n"
          ]
        }
      ]
    },
    {
      "cell_type": "code",
      "source": [
        "%cd /content/hdrnet/hdrnet\n",
        "!py.test test\n"
      ],
      "metadata": {
        "id": "U1X8EwFAbPqJ",
        "colab": {
          "base_uri": "https://localhost:8080/"
        },
        "outputId": "ad30bfea-dbea-4456-e4e5-616affe1b170"
      },
      "execution_count": 46,
      "outputs": [
        {
          "output_type": "stream",
          "name": "stdout",
          "text": [
            "/content/hdrnet/hdrnet\n",
            "\u001b[1m============================= test session starts ==============================\u001b[0m\n",
            "platform linux -- Python 3.7.13, pytest-3.6.4, py-1.11.0, pluggy-0.7.1\n",
            "rootdir: /content/hdrnet/hdrnet, inifile:\n",
            "plugins: typeguard-2.7.1\n",
            "collected 14 items                                                             \u001b[0m\n",
            "\n",
            "test/ops_test.py ......s..F..s.\u001b[36m                                          [100%]\u001b[0m\n",
            "\n",
            "=================================== FAILURES ===================================\n",
            "\u001b[31m\u001b[1m_________________ BilateralSliceApplyTest.test_guide_gradient __________________\u001b[0m\n",
            "\n",
            "self = <hdrnet.test.ops_test.BilateralSliceApplyTest testMethod=test_guide_gradient>\n",
            "\n",
            "\u001b[1m    def test_guide_gradient(self):\u001b[0m\n",
            "\u001b[1m      #TODO: this does not work yet, differentiable 'max' in the tent: max(1-abs(x), 0)?\u001b[0m\n",
            "\u001b[1m      for dev in ['/cpu:0','/gpu:0']:\u001b[0m\n",
            "\u001b[1m        batch_size = 1\u001b[0m\n",
            "\u001b[1m        h = 6\u001b[0m\n",
            "\u001b[1m        w = 15\u001b[0m\n",
            "\u001b[1m        gh = 3\u001b[0m\n",
            "\u001b[1m        gw = 9\u001b[0m\n",
            "\u001b[1m        d = 7\u001b[0m\n",
            "\u001b[1m        i_chans = 1\u001b[0m\n",
            "\u001b[1m        o_chans = 1\u001b[0m\n",
            "\u001b[1m        grid_shape = [batch_size, gh, gw, d, (i_chans+1)*o_chans]\u001b[0m\n",
            "\u001b[1m        guide_shape = [batch_size, h, w]\u001b[0m\n",
            "\u001b[1m        input_shape = [batch_size, h, w, i_chans]\u001b[0m\n",
            "\u001b[1m        output_shape = [batch_size, h, w, o_chans]\u001b[0m\n",
            "\u001b[1m    \u001b[0m\n",
            "\u001b[1m        grid_data = np.random.rand(*grid_shape).astype(np.float32)\u001b[0m\n",
            "\u001b[1m        guide_data = np.random.rand(*guide_shape).astype(np.float32)\u001b[0m\n",
            "\u001b[1m        input_data = np.random.rand(*input_shape).astype(np.float32)\u001b[0m\n",
            "\u001b[1m    \u001b[0m\n",
            "\u001b[1m        with tf.device(dev):\u001b[0m\n",
            "\u001b[1m          grid_tensor = tf.convert_to_tensor(grid_data,\u001b[0m\n",
            "\u001b[1m                                             name='data',\u001b[0m\n",
            "\u001b[1m                                             dtype=tf.float32)\u001b[0m\n",
            "\u001b[1m          guide_tensor = tf.convert_to_tensor(guide_data,\u001b[0m\n",
            "\u001b[1m                                              name='guide',\u001b[0m\n",
            "\u001b[1m                                              dtype=tf.float32)\u001b[0m\n",
            "\u001b[1m          input_tensor = tf.convert_to_tensor(input_data,\u001b[0m\n",
            "\u001b[1m                                              name='input',\u001b[0m\n",
            "\u001b[1m                                              dtype=tf.float32)\u001b[0m\n",
            "\u001b[1m    \u001b[0m\n",
            "\u001b[1m          output_tensor = ops.bilateral_slice_apply(grid_tensor, guide_tensor, input_tensor, has_offset=True)\u001b[0m\n",
            "\u001b[1m    \u001b[0m\n",
            "\u001b[1m        with self.test_session():\u001b[0m\n",
            "\u001b[1m          num, th = tf.test.compute_gradient(\u001b[0m\n",
            "\u001b[1m              guide_tensor,\u001b[0m\n",
            "\u001b[1m              guide_shape,\u001b[0m\n",
            "\u001b[1m              output_tensor,\u001b[0m\n",
            "\u001b[1m              output_shape)\u001b[0m\n",
            "\u001b[1m    \u001b[0m\n",
            "\u001b[1m    \u001b[0m\n",
            "\u001b[1m          margin = 1e-2\u001b[0m\n",
            "\u001b[1m          idx = np.where(np.abs(th-num) >= margin)\u001b[0m\n",
            "\u001b[1m    \u001b[0m\n",
            "\u001b[1m          for i in range(len(idx[0])):\u001b[0m\n",
            "\u001b[1m            guide_idx = np.unravel_index(idx[0][i], guide_shape)\u001b[0m\n",
            "\u001b[1m            output_idx = np.unravel_index(idx[1][i], output_shape)\u001b[0m\n",
            "\u001b[1m    \u001b[0m\n",
            "\u001b[1m          err = tf.test.compute_gradient_error(\u001b[0m\n",
            "\u001b[1m              guide_tensor,\u001b[0m\n",
            "\u001b[1m              guide_shape,\u001b[0m\n",
            "\u001b[1m              output_tensor,\u001b[0m\n",
            "\u001b[1m              output_shape)\u001b[0m\n",
            "\u001b[1m>         self.assertLess(err, margin)\u001b[0m\n",
            "\u001b[1m\u001b[31mE         AssertionError: 0.1366351842880249 not less than 0.01\u001b[0m\n",
            "\n",
            "\u001b[1m\u001b[31mtest/ops_test.py\u001b[0m:464: AssertionError\n",
            "\u001b[31m\u001b[1m=============== 1 failed, 11 passed, 2 skipped in 38.59 seconds ================\u001b[0m\n"
          ]
        }
      ]
    },
    {
      "cell_type": "code",
      "source": [
        "TF_INC ?= `python -c 'import tensorflow as tf; print(tf.sysconfig.get_include())'`\n",
        "# TF_INC ?= /usr/local/lib/python2.7/dist-packages/tensorflow/include\n",
        "CUDA_HOME ?= /usr/local/cuda\n",
        "\n",
        "SRC_DIR = ops\n",
        "\n",
        "BUILD_DIR = build\n",
        "LIB_DIR = lib\n",
        "\n",
        "CC = c++ -std=c++17\n",
        "NVCC = nvcc -std c++17\n",
        "CFLAGS = -fPIC -I$(TF_INC) -O2 -D_GLIBCXX_USE_CXX11_ABI=0\n",
        "LDFLAGS = -L$(CUDA_HOME)/lib64 -lcudart\n",
        "NVFLAGS = -DGOOGLE_CUDA=1 -D__CUDA__ -x cu -Xcompiler -fPIC -I$(TF_INC) \\\n",
        "\t\t\t\t\t-expt-relaxed-constexpr -Wno-deprecated-gpu-targets -ftz=true\n",
        "\n",
        "\n",
        "SRC = bilateral_slice.cc bilateral_slice_apply.cc bilateral_slice_op.cc bilateral_slice_apply_op.cc\n",
        "CUDA_SRC = bilateral_slice.cu.cc bilateral_slice_apply.cu.cc\n",
        "CUDA_OBJ = $(addprefix $(BUILD_DIR)/,$(CUDA_SRC:.cc=.o))\n",
        "SRCS = $(addprefix $(SRC_DIR)/, $(SRC))\n",
        "\n",
        "all: $(LIB_DIR)/hdrnet_ops.so\n",
        "\n",
        "# Main library\n",
        "$(LIB_DIR)/hdrnet_ops.so: $(CUDA_OBJ) $(LIB_DIR) $(SRCS)\n",
        "\t$(CC) -shared -o $@ $(SRCS) $(CUDA_OBJ) $(CFLAGS) $(LDFLAGS) \n",
        "\n",
        "# Cuda kernels\n",
        "$(BUILD_DIR)/%.o: $(SRC_DIR)/%.cc $(BUILD_DIR)\n",
        "\t$(NVCC) -c  $< -o $@ $(NVFLAGS)\n",
        "\n",
        "$(BUILD_DIR):\n",
        "\tmkdir -p $@\n",
        "\n",
        "\n",
        "$(LIB_DIR):\n",
        "\tmkdir -p $@\n",
        "\n",
        "clean:\n",
        "\trm -rf $(BUILD_DIR) $(LIB_DIR)\n"
      ],
      "metadata": {
        "id": "pYvJc0Y-aUpd"
      },
      "execution_count": null,
      "outputs": []
    },
    {
      "cell_type": "code",
      "source": [
        "  template <int I>\n",
        "  using StorageT = internal_compressed_tuple::Storage<ElemT<I>, I>;\n",
        "\n",
        "  template <int I>\n",
        "  ElemT<I>&& get() && {\n",
        "    return std::move(*this).StorageT<I>::get();\n",
        "  }\n",
        "\n",
        "  template <int I>\n",
        "  constexpr const ElemT<I>&& get() const&& {\n",
        "    return absl::move(*this).StorageT<I>::get();\n",
        "  }\n",
        "\n",
        "  /usr/local/lib/python3.7/dist-packages/tensorflow/include/tensorflow/core/util/gpu_device_functions.h\n",
        "  /usr/local/lib/python3.7/dist-packages/tensorflow/include/absl/container/internal/compressed_tuple.h\n",
        "  /usr/local/lib/python3.7/dist-packages/tensorflow/include/absl/base/config.h"
      ],
      "metadata": {
        "id": "DEjcLzx3bY38"
      },
      "execution_count": null,
      "outputs": []
    },
    {
      "cell_type": "code",
      "source": [
        "from google.colab import files\n",
        "import os\n",
        "def upload(path):\n",
        "    uploaded = files.upload()\n",
        "    with open(path,'wb') as fp:\n",
        "        fp.write(uploaded[list(uploaded.keys())[0]])\n",
        " \n",
        "def download(path):\n",
        "    files.download(path)"
      ],
      "metadata": {
        "id": "r-Q52Nasti1E"
      },
      "execution_count": 26,
      "outputs": []
    },
    {
      "cell_type": "code",
      "source": [
        "download('/content/hdrnet/hdrnet/lib/hdrnet_ops.so')"
      ],
      "metadata": {
        "id": "1HyOBthLtk94",
        "outputId": "6cd97b21-815e-486b-d53e-08b09a8c0ebd",
        "colab": {
          "base_uri": "https://localhost:8080/",
          "height": 17
        }
      },
      "execution_count": 27,
      "outputs": [
        {
          "output_type": "display_data",
          "data": {
            "text/plain": [
              "<IPython.core.display.Javascript object>"
            ],
            "application/javascript": [
              "\n",
              "    async function download(id, filename, size) {\n",
              "      if (!google.colab.kernel.accessAllowed) {\n",
              "        return;\n",
              "      }\n",
              "      const div = document.createElement('div');\n",
              "      const label = document.createElement('label');\n",
              "      label.textContent = `Downloading \"${filename}\": `;\n",
              "      div.appendChild(label);\n",
              "      const progress = document.createElement('progress');\n",
              "      progress.max = size;\n",
              "      div.appendChild(progress);\n",
              "      document.body.appendChild(div);\n",
              "\n",
              "      const buffers = [];\n",
              "      let downloaded = 0;\n",
              "\n",
              "      const channel = await google.colab.kernel.comms.open(id);\n",
              "      // Send a message to notify the kernel that we're ready.\n",
              "      channel.send({})\n",
              "\n",
              "      for await (const message of channel.messages) {\n",
              "        // Send a message to notify the kernel that we're ready.\n",
              "        channel.send({})\n",
              "        if (message.buffers) {\n",
              "          for (const buffer of message.buffers) {\n",
              "            buffers.push(buffer);\n",
              "            downloaded += buffer.byteLength;\n",
              "            progress.value = downloaded;\n",
              "          }\n",
              "        }\n",
              "      }\n",
              "      const blob = new Blob(buffers, {type: 'application/binary'});\n",
              "      const a = document.createElement('a');\n",
              "      a.href = window.URL.createObjectURL(blob);\n",
              "      a.download = filename;\n",
              "      div.appendChild(a);\n",
              "      a.click();\n",
              "      div.remove();\n",
              "    }\n",
              "  "
            ]
          },
          "metadata": {}
        },
        {
          "output_type": "display_data",
          "data": {
            "text/plain": [
              "<IPython.core.display.Javascript object>"
            ],
            "application/javascript": [
              "download(\"download_b72594d0-3c6f-4688-9ed7-228c24645149\", \"hdrnet_ops.so\", 361512)"
            ]
          },
          "metadata": {}
        }
      ]
    }
  ]
}