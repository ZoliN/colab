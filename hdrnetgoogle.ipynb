{
  "nbformat": 4,
  "nbformat_minor": 0,
  "metadata": {
    "colab": {
      "name": "Untitled3.ipynb",
      "provenance": [],
      "collapsed_sections": [],
      "authorship_tag": "ABX9TyPmeazhQhnrIQPV5K+doqCT",
      "include_colab_link": true
    },
    "kernelspec": {
      "name": "python3",
      "display_name": "Python 3"
    },
    "language_info": {
      "name": "python"
    }
  },
  "cells": [
    {
      "cell_type": "markdown",
      "metadata": {
        "id": "view-in-github",
        "colab_type": "text"
      },
      "source": [
        "<a href=\"https://colab.research.google.com/github/ZoliN/colab/blob/main/hdrnetgoogle.ipynb\" target=\"_parent\"><img src=\"https://colab.research.google.com/assets/colab-badge.svg\" alt=\"Open In Colab\"/></a>"
      ]
    },
    {
      "cell_type": "code",
      "execution_count": null,
      "metadata": {
        "id": "PEST8rWJRUo0"
      },
      "outputs": [],
      "source": [
        "#!pip3 install virtualenv\n",
        "#!virtualenv env\n",
        "!git clone https://github.com/google/hdrnet.git\n",
        "%cd /content/hdrnet/hdrnet\n",
        "#!source /content/env/bin/activate;pip install -r requirements.txt\n",
        "!pip install opencv-python\n",
        "!pip install pytest\n",
        "!pip install tensorflow-gpu==2.9.1\n",
        "!apt-get install libmagic1\n",
        "!apt-get install clang-10 -y -qq;\n",
        "!ln -sf /usr/bin/clang-10 /usr/local/cuda/bin/gcc;\n",
        "!ln -sf /usr/bin/clang-10 /usr/local/cuda/bin/g++;\n",
        "import os\n",
        "import sys\n",
        "os.environ['CUDA_HOME'] = '/usr/local/cuda'\n",
        "os.environ['PATH'] += ':/content/hdrnet'\n",
        "os.environ['LD_LIBRARY_PATH'] += ':/content/env/lib/python3.7/site-packages/tensorflow'\n",
        "!echo $CUDA_HOME\n",
        "!echo $PATH"
      ]
    },
    {
      "cell_type": "code",
      "source": [
        "!nvcc --version"
      ],
      "metadata": {
        "colab": {
          "base_uri": "https://localhost:8080/"
        },
        "id": "43fG3jsGP6tV",
        "outputId": "cb8bbcfd-3138-4712-dfce-b9aa7d8f29ea"
      },
      "execution_count": 6,
      "outputs": [
        {
          "output_type": "stream",
          "name": "stdout",
          "text": [
            "nvcc: NVIDIA (R) Cuda compiler driver\n",
            "Copyright (c) 2005-2020 NVIDIA Corporation\n",
            "Built on Mon_Oct_12_20:09:46_PDT_2020\n",
            "Cuda compilation tools, release 11.1, V11.1.105\n",
            "Build cuda_11.1.TC455_06.29190527_0\n"
          ]
        }
      ]
    },
    {
      "cell_type": "code",
      "source": [
        "!ln -sf /usr/bin/clang-10 /usr/local/cuda/bin/gcc;\n",
        "!ln -sf /usr/bin/clang-10 /usr/local/cuda/bin/g++;"
      ],
      "metadata": {
        "id": "rDaTfzIPU61I"
      },
      "execution_count": 14,
      "outputs": []
    },
    {
      "cell_type": "code",
      "source": [
        ""
      ],
      "metadata": {
        "id": "_cdYGjSqa2-Q"
      },
      "execution_count": null,
      "outputs": []
    },
    {
      "cell_type": "code",
      "source": [
        "!mkdir -p /content/hdrnet/hdrnet/ops/third_party/\n",
        "!mkdir -p /content/hdrnet/hdrnet/ops/third_party/array\n",
        "!wget https://raw.githubusercontent.com/dsharlet/array/master/array.h -P /content/hdrnet/hdrnet/ops/third_party/array/\n",
        "!ln -sf /usr/local/lib/python3.7/dist-packages/tensorflow/include/tensorflow/ /content/hdrnet/hdrnet/ops/third_party/\n",
        "!mkdir -p /usr/local/lib/python3.7/dist-packages/tensorflow/include/third_party/gpus/cuda\n",
        "!ln -sf /usr/local/cuda/include /usr/local/lib/python3.7/dist-packages/tensorflow/include/third_party/gpus/cuda"
      ],
      "metadata": {
        "id": "p_y1ZQbSRJuQ",
        "outputId": "cdaa5518-7243-4c0f-96eb-8616c0b9cf70",
        "colab": {
          "base_uri": "https://localhost:8080/"
        }
      },
      "execution_count": 15,
      "outputs": [
        {
          "output_type": "stream",
          "name": "stdout",
          "text": [
            "--2022-07-12 08:37:45--  https://raw.githubusercontent.com/dsharlet/array/master/array.h\n",
            "Resolving raw.githubusercontent.com (raw.githubusercontent.com)... 185.199.111.133, 185.199.108.133, 185.199.109.133, ...\n",
            "Connecting to raw.githubusercontent.com (raw.githubusercontent.com)|185.199.111.133|:443... connected.\n",
            "HTTP request sent, awaiting response... 200 OK\n",
            "Length: 126753 (124K) [text/plain]\n",
            "Saving to: ‘/content/hdrnet/hdrnet/ops/third_party/array/array.h.1’\n",
            "\n",
            "array.h.1           100%[===================>] 123.78K  --.-KB/s    in 0.02s   \n",
            "\n",
            "2022-07-12 08:37:45 (5.58 MB/s) - ‘/content/hdrnet/hdrnet/ops/third_party/array/array.h.1’ saved [126753/126753]\n",
            "\n"
          ]
        }
      ]
    },
    {
      "cell_type": "code",
      "source": [
        "%cd /content/hdrnet/hdrnet\n",
        "%env PROTOCOL_BUFFERS_PYTHON_IMPLEMENTATION=python\n",
        "!make clean\n",
        "!make"
      ],
      "metadata": {
        "id": "-KIM2ikGXeT-"
      },
      "execution_count": null,
      "outputs": []
    },
    {
      "cell_type": "code",
      "source": [
        "!ls /usr/local/lib/python3.7/dist-packages/tensorflow/include/third_party/gpus/cuda/include"
      ],
      "metadata": {
        "id": "7KayWarXZyjp"
      },
      "execution_count": null,
      "outputs": []
    },
    {
      "cell_type": "code",
      "source": [
        "!mkdir -p /usr/local/lib/python3.7/dist-packages/tensorflow/include/third_party/gpus/cuda\n",
        "!ln -s /usr/local/cuda/include /usr/local/lib/python3.7/dist-packages/tensorflow/include/third_party/gpus/cuda\n",
        "\n",
        "!mkdir -p /content/env2/lib/python3.7/dist-packages/tensorflow/include/third_party/gpus/cuda\n",
        "!ln -s /usr/local/cuda/include /content/env2/lib/python3.7/dist-packages/tensorflow/include/third_party/gpus/cuda"
      ],
      "metadata": {
        "id": "Am1jn8irZfGb"
      },
      "execution_count": null,
      "outputs": []
    },
    {
      "cell_type": "code",
      "source": [
        "!ls -l /usr/local/cuda/bin/gcc\n"
      ],
      "metadata": {
        "colab": {
          "base_uri": "https://localhost:8080/"
        },
        "id": "lF31LQauR0pX",
        "outputId": "d5edef8d-1ea8-419f-efc4-d5db2e9575b4"
      },
      "execution_count": null,
      "outputs": [
        {
          "output_type": "stream",
          "name": "stdout",
          "text": [
            "ls: cannot access '/usr/local/cuda/bin/gcc': No such file or directory\n"
          ]
        }
      ]
    },
    {
      "cell_type": "code",
      "source": [
        "#!virtualenv env2\n",
        "#%cd /content/hdrnet/hdrnet\n",
        "#!source /content/env2/bin/activate;pip install -r requirements.txt\n",
        "!pip install tensorflow-gpu\n"
      ],
      "metadata": {
        "id": "U1X8EwFAbPqJ"
      },
      "execution_count": null,
      "outputs": []
    },
    {
      "cell_type": "code",
      "source": [
        "TF_INC ?= `python -c 'import tensorflow as tf; print(tf.sysconfig.get_include())'`\n",
        "# TF_INC ?= /usr/local/lib/python2.7/dist-packages/tensorflow/include\n",
        "CUDA_HOME ?= /usr/local/cuda\n",
        "\n",
        "SRC_DIR = ops\n",
        "\n",
        "BUILD_DIR = build\n",
        "LIB_DIR = lib\n",
        "\n",
        "CC = c++ -std=c++17\n",
        "NVCC = nvcc -std c++17\n",
        "CFLAGS = -fPIC -I$(TF_INC) -O2 -D_GLIBCXX_USE_CXX11_ABI=0\n",
        "LDFLAGS = -L$(CUDA_HOME)/lib64 -lcudart\n",
        "NVFLAGS = -DGOOGLE_CUDA=1 -D__CUDA__ -x cu -Xcompiler -fPIC -I$(TF_INC) \\\n",
        "\t\t\t\t\t-expt-relaxed-constexpr -Wno-deprecated-gpu-targets -ftz=true\n",
        "\n",
        "\n",
        "SRC = bilateral_slice.cc bilateral_slice_apply.cc bilateral_slice_op.cc bilateral_slice_apply_op.cc\n",
        "CUDA_SRC = bilateral_slice.cu.cc bilateral_slice_apply.cu.cc\n",
        "CUDA_OBJ = $(addprefix $(BUILD_DIR)/,$(CUDA_SRC:.cc=.o))\n",
        "SRCS = $(addprefix $(SRC_DIR)/, $(SRC))\n",
        "\n",
        "all: $(LIB_DIR)/hdrnet_ops.so\n",
        "\n",
        "# Main library\n",
        "$(LIB_DIR)/hdrnet_ops.so: $(CUDA_OBJ) $(LIB_DIR) $(SRCS)\n",
        "\t$(CC) -shared -o $@ $(SRCS) $(CUDA_OBJ) $(CFLAGS) $(LDFLAGS) \n",
        "\n",
        "# Cuda kernels\n",
        "$(BUILD_DIR)/%.o: $(SRC_DIR)/%.cc $(BUILD_DIR)\n",
        "\t$(NVCC) -c  $< -o $@ $(NVFLAGS)\n",
        "\n",
        "$(BUILD_DIR):\n",
        "\tmkdir -p $@\n",
        "\n",
        "\n",
        "$(LIB_DIR):\n",
        "\tmkdir -p $@\n",
        "\n",
        "clean:\n",
        "\trm -rf $(BUILD_DIR) $(LIB_DIR)\n"
      ],
      "metadata": {
        "id": "pYvJc0Y-aUpd"
      },
      "execution_count": null,
      "outputs": []
    },
    {
      "cell_type": "code",
      "source": [
        "  template <int I>\n",
        "  using StorageT = internal_compressed_tuple::Storage<ElemT<I>, I>;\n",
        "\n",
        "  template <int I>\n",
        "  ElemT<I>&& get() && {\n",
        "    return std::move(*this).StorageT<I>::get();\n",
        "  }\n",
        "\n",
        "  template <int I>\n",
        "  constexpr const ElemT<I>&& get() const&& {\n",
        "    return absl::move(*this).StorageT<I>::get();\n",
        "  }\n",
        "\n",
        "  /usr/local/lib/python3.7/dist-packages/tensorflow/include/tensorflow/core/util/gpu_device_functions.h\n",
        "  /usr/local/lib/python3.7/dist-packages/tensorflow/include/absl/container/internal/compressed_tuple.h"
      ],
      "metadata": {
        "id": "DEjcLzx3bY38"
      },
      "execution_count": null,
      "outputs": []
    }
  ]
}