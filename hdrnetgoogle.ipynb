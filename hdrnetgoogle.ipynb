{
  "nbformat": 4,
  "nbformat_minor": 0,
  "metadata": {
    "colab": {
      "name": "Untitled3.ipynb",
      "provenance": [],
      "collapsed_sections": [],
      "authorship_tag": "ABX9TyOgvvj89buD+gW7X9C6mAK9",
      "include_colab_link": true
    },
    "kernelspec": {
      "name": "python3",
      "display_name": "Python 3"
    },
    "language_info": {
      "name": "python"
    }
  },
  "cells": [
    {
      "cell_type": "markdown",
      "metadata": {
        "id": "view-in-github",
        "colab_type": "text"
      },
      "source": [
        "<a href=\"https://colab.research.google.com/github/ZoliN/colab/blob/main/hdrnetgoogle.ipynb\" target=\"_parent\"><img src=\"https://colab.research.google.com/assets/colab-badge.svg\" alt=\"Open In Colab\"/></a>"
      ]
    },
    {
      "cell_type": "code",
      "execution_count": null,
      "metadata": {
        "id": "PEST8rWJRUo0"
      },
      "outputs": [],
      "source": [
        "#!pip3 install virtualenv\n",
        "#!virtualenv env\n",
        "!git clone https://github.com/ZoliN/hdrnet.git\n",
        "%cd /content/hdrnet/hdrnet\n",
        "!pip install -r requirements.txt\n",
        "#!pip install opencv-python\n",
        "#!pip install pytest\n",
        "#!pip install tensorflow-gpu==2.9.1\n",
        "!apt-get install libmagic1\n",
        "!apt-get install clang-10 -y -qq;\n",
        "!ln -sf /usr/bin/clang-10 /usr/local/cuda/bin/gcc;\n",
        "!ln -sf /usr/bin/clang-10 /usr/local/cuda/bin/g++;\n",
        "import os\n",
        "import sys\n",
        "os.environ['CUDA_HOME'] = '/usr/local/cuda'\n",
        "os.environ['PATH'] += ':/content/hdrnet'\n",
        "os.environ['LD_LIBRARY_PATH'] += ':/content/env/lib/python3.7/site-packages/tensorflow'\n",
        "!echo $CUDA_HOME\n",
        "!echo $PATH\n",
        "!ln -sf /usr/local/lib/python3.7/dist-packages/tensorflow/include/tensorflow/ /content/hdrnet/hdrnet/ops/third_party/\n",
        "!mkdir -p /usr/local/lib/python3.7/dist-packages/tensorflow/include/third_party/gpus/cuda\n",
        "!ln -sf /usr/local/cuda/include /usr/local/lib/python3.7/dist-packages/tensorflow/include/third_party/gpus/cuda\n",
        "!cp /content/hdrnet/hdrnet/fixes/gpu_device_functions.h /usr/local/lib/python3.7/dist-packages/tensorflow/include/tensorflow/core/util/gpu_device_functions.h\n",
        "!cp /content/hdrnet/hdrnet/fixes/compressed_tuple.h /usr/local/lib/python3.7/dist-packages/tensorflow/include/absl/container/internal/compressed_tuple.h\n",
        "!cp /content/hdrnet/hdrnet/fixes/config.h  /usr/local/lib/python3.7/dist-packages/tensorflow/include/absl/base/config.h"
      ]
    },
    {
      "cell_type": "code",
      "source": [
        "!nvcc --version"
      ],
      "metadata": {
        "colab": {
          "base_uri": "https://localhost:8080/"
        },
        "id": "43fG3jsGP6tV",
        "outputId": "cb8bbcfd-3138-4712-dfce-b9aa7d8f29ea"
      },
      "execution_count": null,
      "outputs": [
        {
          "output_type": "stream",
          "name": "stdout",
          "text": [
            "nvcc: NVIDIA (R) Cuda compiler driver\n",
            "Copyright (c) 2005-2020 NVIDIA Corporation\n",
            "Built on Mon_Oct_12_20:09:46_PDT_2020\n",
            "Cuda compilation tools, release 11.1, V11.1.105\n",
            "Build cuda_11.1.TC455_06.29190527_0\n"
          ]
        }
      ]
    },
    {
      "cell_type": "code",
      "source": [
        "#!mkdir -p /content/hdrnet/hdrnet/ops/third_party/\n",
        "#!mkdir -p /content/hdrnet/hdrnet/ops/third_party/array\n",
        "#!wget https://raw.githubusercontent.com/dsharlet/array/master/array.h -P /content/hdrnet/hdrnet/ops/third_party/array/\n"
      ],
      "metadata": {
        "id": "p_y1ZQbSRJuQ"
      },
      "execution_count": 3,
      "outputs": []
    },
    {
      "cell_type": "code",
      "source": [
        "%cd /content/hdrnet/hdrnet\n",
        "%env PROTOCOL_BUFFERS_PYTHON_IMPLEMENTATION=python\n",
        "!make clean\n",
        "!make"
      ],
      "metadata": {
        "id": "-KIM2ikGXeT-"
      },
      "execution_count": null,
      "outputs": []
    },
    {
      "cell_type": "code",
      "source": [
        "%cd /content/hdrnet\n",
        "from google.colab import files\n",
        "import os\n",
        "def upload(path):\n",
        "    uploaded = files.upload()\n",
        "    with open(path,'wb') as fp:\n",
        "        fp.write(uploaded[list(uploaded.keys())[0]])\n",
        " \n",
        "def download(path):\n",
        "    files.download(path)\n",
        "    \n",
        "os.makedirs('./in')\n",
        "os.makedirs('./out')"
      ],
      "metadata": {
        "id": "7KayWarXZyjp"
      },
      "execution_count": null,
      "outputs": []
    },
    {
      "cell_type": "code",
      "source": [
        "%cd /content/hdrnet/hdrnet\n",
        "!py.test test\n"
      ],
      "metadata": {
        "id": "U1X8EwFAbPqJ"
      },
      "execution_count": null,
      "outputs": []
    },
    {
      "cell_type": "code",
      "source": [
        ""
      ],
      "metadata": {
        "id": "pYvJc0Y-aUpd"
      },
      "execution_count": null,
      "outputs": []
    },
    {
      "cell_type": "code",
      "source": [
        "%cd /content/hdrnet\n",
        "from google.colab import files\n",
        "import os\n",
        "def upload(path):\n",
        "    uploaded = files.upload()\n",
        "    with open(path,'wb') as fp:\n",
        "        fp.write(uploaded[list(uploaded.keys())[0]])\n",
        " \n",
        "def download(path):\n",
        "    files.download(path)\n",
        "    \n",
        "os.makedirs('./in')\n",
        "os.makedirs('./out')"
      ],
      "metadata": {
        "id": "r-Q52Nasti1E"
      },
      "execution_count": null,
      "outputs": []
    },
    {
      "cell_type": "code",
      "source": [
        "download('/content/hdrnet/hdrnet/lib/hdrnet_ops.so')"
      ],
      "metadata": {
        "id": "1HyOBthLtk94",
        "outputId": "6cd97b21-815e-486b-d53e-08b09a8c0ebd",
        "colab": {
          "base_uri": "https://localhost:8080/",
          "height": 17
        }
      },
      "execution_count": null,
      "outputs": [
        {
          "output_type": "display_data",
          "data": {
            "text/plain": [
              "<IPython.core.display.Javascript object>"
            ],
            "application/javascript": [
              "\n",
              "    async function download(id, filename, size) {\n",
              "      if (!google.colab.kernel.accessAllowed) {\n",
              "        return;\n",
              "      }\n",
              "      const div = document.createElement('div');\n",
              "      const label = document.createElement('label');\n",
              "      label.textContent = `Downloading \"${filename}\": `;\n",
              "      div.appendChild(label);\n",
              "      const progress = document.createElement('progress');\n",
              "      progress.max = size;\n",
              "      div.appendChild(progress);\n",
              "      document.body.appendChild(div);\n",
              "\n",
              "      const buffers = [];\n",
              "      let downloaded = 0;\n",
              "\n",
              "      const channel = await google.colab.kernel.comms.open(id);\n",
              "      // Send a message to notify the kernel that we're ready.\n",
              "      channel.send({})\n",
              "\n",
              "      for await (const message of channel.messages) {\n",
              "        // Send a message to notify the kernel that we're ready.\n",
              "        channel.send({})\n",
              "        if (message.buffers) {\n",
              "          for (const buffer of message.buffers) {\n",
              "            buffers.push(buffer);\n",
              "            downloaded += buffer.byteLength;\n",
              "            progress.value = downloaded;\n",
              "          }\n",
              "        }\n",
              "      }\n",
              "      const blob = new Blob(buffers, {type: 'application/binary'});\n",
              "      const a = document.createElement('a');\n",
              "      a.href = window.URL.createObjectURL(blob);\n",
              "      a.download = filename;\n",
              "      div.appendChild(a);\n",
              "      a.click();\n",
              "      div.remove();\n",
              "    }\n",
              "  "
            ]
          },
          "metadata": {}
        },
        {
          "output_type": "display_data",
          "data": {
            "text/plain": [
              "<IPython.core.display.Javascript object>"
            ],
            "application/javascript": [
              "download(\"download_b72594d0-3c6f-4688-9ed7-228c24645149\", \"hdrnet_ops.so\", 361512)"
            ]
          },
          "metadata": {}
        }
      ]
    }
  ]
}